{
 "cells": [
  {
   "cell_type": "code",
   "execution_count": 2,
   "metadata": {},
   "outputs": [
    {
     "name": "stdout",
     "output_type": "stream",
     "text": [
      "Index(['Itay Gabay', 'Moshe Moshe', 'bibi', 'Itay Perel', 'kobi kobi',\n",
      "       'Gal the queen'],\n",
      "      dtype='object')\n"
     ]
    }
   ],
   "source": [
    "import pandas as pd\n",
    "import numpy as np\n",
    "\n",
    "df_data = pd.read_csv('./MOCK_DATA.csv')\n",
    "\n",
    "df_processedData = df_data\n",
    "lables = dict()\n",
    "df_processedData['groupId'], lables['groupId'] = df_data['groupId'].factorize()\n",
    "df_processedData['referredId'], lables['referredId'] = df_data['referredId'].factorize()\n",
    "df_processedData['referredToId'], lables['referredToId'] = df_data['referredToId'].factorize()\n",
    "df_processedData['referredJob'], lables['referredJob'] = df_data['referredJob'].factorize()\n",
    "df_processedData['referredToJob'], lables['referredToJob'] = df_data['referredToJob'].factorize()\n",
    "df_processedData['is_good'] = df_data[\"is_good\"].astype(int)\n",
    "\n",
    "df_processedData['client_name'], lables['client_name'] = df_data['client_name'].factorize()\n",
    "\n",
    "print(lables[\"client_name\"])"
   ]
  },
  {
   "cell_type": "code",
   "execution_count": 3,
   "metadata": {},
   "outputs": [
    {
     "name": "stdout",
     "output_type": "stream",
     "text": [
      "<class 'pandas.core.frame.DataFrame'>\n",
      "0.652\n"
     ]
    },
    {
     "name": "stderr",
     "output_type": "stream",
     "text": [
      "c:\\users\\itay gabbay\\appdata\\local\\programs\\python\\python35\\lib\\site-packages\\sklearn\\utils\\validation.py:526: DataConversionWarning: A column-vector y was passed when a 1d array was expected. Please change the shape of y to (n_samples, ), for example using ravel().\n",
      "  y = column_or_1d(y, warn=True)\n"
     ]
    }
   ],
   "source": [
    "from sklearn.cross_validation import train_test_split\n",
    "from sklearn.naive_bayes import GaussianNB\n",
    "from sklearn import metrics\n",
    "\n",
    "X_train, X_test, Y_train, Y_test = train_test_split(df_processedData.drop(['is_good', 'amount'], 1), df_processedData[[\"is_good\"]])\n",
    "\n",
    "classfierModel = GaussianNB()\n",
    "classfierModel.fit(X_train, Y_train)\n",
    "print (type(X_test))\n",
    "predicted = classfierModel.predict(X_test)\n",
    "expected = Y_test\n",
    "\n",
    "print(str(metrics.accuracy_score(expected, predicted)))\n",
    "\n"
   ]
  },
  {
   "cell_type": "code",
   "execution_count": 4,
   "metadata": {},
   "outputs": [
    {
     "name": "stdout",
     "output_type": "stream",
     "text": [
      "-1.01231636565\n"
     ]
    }
   ],
   "source": [
    "from sklearn.tree import DecisionTreeRegressor\n",
    "\n",
    "df_good = df_processedData.loc[df_processedData['is_good'] == 1]\n",
    "\n",
    "X_train, X_test, Y_train, Y_test = train_test_split(df_good.drop(['amount', 'is_good'], 1), df_good[[\"amount\"]])\n",
    "\n",
    "regressionModel = DecisionTreeRegressor()\n",
    "\n",
    "regressionModel.fit(X_train, Y_train)\n",
    "predicted = regressionModel.predict(X_test)\n",
    "expected = Y_test\n",
    "\n",
    "print(str(regressionModel.score(X_test, Y_test)))"
   ]
  },
  {
   "cell_type": "code",
   "execution_count": 5,
   "metadata": {},
   "outputs": [],
   "source": [
    "# Saving the models\n",
    "from sklearn.externals import joblib\n",
    "import pickle\n",
    "\n",
    "joblib.dump(classfierModel, 'classifier.pkl') \n",
    "joblib.dump(regressionModel, 'regression.pkl')\n",
    "pickle.dump(lables, open( \"labels.p\", \"wb\" ))"
   ]
  }
 ],
 "metadata": {
  "kernelspec": {
   "display_name": "Python 3",
   "language": "python",
   "name": "python3"
  },
  "language_info": {
   "codemirror_mode": {
    "name": "ipython",
    "version": 3
   },
   "file_extension": ".py",
   "mimetype": "text/x-python",
   "name": "python",
   "nbconvert_exporter": "python",
   "pygments_lexer": "ipython3",
   "version": "3.5.2"
  }
 },
 "nbformat": 4,
 "nbformat_minor": 2
}
